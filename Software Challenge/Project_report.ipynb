{
 "cells": [
  {
   "cell_type": "markdown",
   "id": "3641fe30",
   "metadata": {},
   "source": [
    "# Final report"
   ]
  },
  {
   "cell_type": "markdown",
   "id": "577b7e57",
   "metadata": {},
   "source": [
    "### 3 Nodes Graph"
   ]
  },
  {
   "cell_type": "markdown",
   "id": "f0996774",
   "metadata": {},
   "source": [
    "Following the paper \"A QAOA solution to the traveling salesman problem using pyQuil\" by Matthew Radzihovsky, Joey Murphy, Mason Swofford, we encode the problem into an n^2 bitstring (or equivalently into an nxn matrix), being n the number of nodes in the grpah (n = 3 in our case).\n",
    "Rows of the matrix can be interpreted as nodes in the graph, columns as time steps. Each row and each column must have exactly one 1 and n-1 zeros (meaning that 1 and only 1 city is visited at each time step).\n",
    "\n",
    "We then encode the minimization problem + the hard constraints into a hamiltonian acting on nxn qubits. \n",
    "Binary variables are encoded in quantum operators acting on the qubit by simply substituting x_j -> (1-Z_j)/2 where Z_j is the Pauli Z operator acting on the j-th qubit. \n",
    "\n",
    "Using such cost hamiltonian we run Adiabatic Quantum Optimization and QAOA.\n",
    "\n",
    "For the QAOA, we first attempted to use standard QOAO - \n",
    "that is we used the simple sum((X(i)) for i in range(G.number_of_nodes()^2)) mixing hamiltonian\n",
    "\n",
    "To improve fidelity we went on implementing \"S+S- mixers\", again following what outiled in the paper.\n",
    "Starting from initial state in the feasible subspace (appropriately prepared), adopting this new mixing hamiltonian allows to explore all and only the states in the feasible subspace."
   ]
  },
  {
   "cell_type": "markdown",
   "id": "6e05f6b4",
   "metadata": {},
   "source": [
    "### 5 Nodes Graph"
   ]
  },
  {
   "cell_type": "markdown",
   "id": "bc8a53ea",
   "metadata": {},
   "source": [
    "To figure out a 6-qubit encoding for the new 5 nodes graph, we actually started working from same nxn encoding scheme used for the previous task.\n",
    "For such encoding to work we know we would in theory need 5x5 = 25 qubits.\n",
    "However, turns out that it's possible to reduce the number of required qubits by exploiting some of the constraints built-in in the problem specifications. \n",
    "\n",
    "In particular, since initial and final points are fixed the first and last columns and rows of the 5x5 matrix are fixed.\n",
    "This leaves us with a 3x3 matrix, which would need 9 qubits.\n",
    "Then, if we also require to obtain a feasible solution, once the first two columns of this 3x3 matrix are set, the last column is also fixed (to satisfy the requirement that there is excatly one 1 in each row and column).\n",
    "we can thus restrict ourselves to consider only the first two columns of the 3x3 encoding matrix, which we can specify with 6 qubits.\n",
    "\n",
    "For a general graph with n nodes - with specified starting and end point - applying this encoding requires (n-2)x(n-3) qubits, so the encoding actually still scales like n^2 and we haven't gained much in terms of scaling.\n",
    "However, for the specific case of a 5-node graph this encoding allows us to satisfy the 6 qubit requirement and has the advantage of using a cost hamiltonian which is a relatively simple generalization of the one used with the nxn encoding.\n",
    "\n",
    "Running adiabatic optimization using the cost hamiltonian works well.\n",
    "\n",
    "QAOA on the other hand, does not work as fine.\n",
    "Dumb QAOA does not work as fine (althogh we get nonzero counts for \n",
    "Since constraints are not built in we tried to increase weights of hard contraints (with respect to optimization part).\n",
    "This actually had the effect of reducing the occurence of unfeasible solutions."
   ]
  },
  {
   "cell_type": "markdown",
   "id": "c4ec72a9",
   "metadata": {},
   "source": []
  }
 ],
 "metadata": {
  "kernelspec": {
   "display_name": "Python 3 (ipykernel)",
   "language": "python",
   "name": "python3"
  },
  "language_info": {
   "codemirror_mode": {
    "name": "ipython",
    "version": 3
   },
   "file_extension": ".py",
   "mimetype": "text/x-python",
   "name": "python",
   "nbconvert_exporter": "python",
   "pygments_lexer": "ipython3",
   "version": "3.8.16"
  }
 },
 "nbformat": 4,
 "nbformat_minor": 5
}
